{
 "cells": [
  {
   "cell_type": "code",
   "execution_count": 64,
   "metadata": {},
   "outputs": [],
   "source": [
    "import pandas as pd\n",
    "import numpy as np\n",
    "from keras.preprocessing.sequence import pad_sequences\n",
    "from keras.utils import np_utils\n",
    "from keras.models import Sequential\n",
    "from keras.layers.core import Dense, Activation, Lambda\n",
    "from keras.layers import LSTM, Dropout\n",
    "from keras.optimizers import Adam\n",
    "from keras.callbacks import EarlyStopping\n",
    "import tensorflow as tf"
   ]
  },
  {
   "cell_type": "code",
   "execution_count": 65,
   "metadata": {},
   "outputs": [],
   "source": [
    "df = pd.read_csv('../../data/scheme-progs.csv')\n",
    "df = df.sample(frac=1).reset_index(drop=True)\n",
    "df = df[df.output != 'E']\n",
    "df.output = pd.to_numeric(df.output)"
   ]
  },
  {
   "cell_type": "code",
   "execution_count": 66,
   "metadata": {},
   "outputs": [
    {
     "data": {
      "text/plain": [
       "29911.2"
      ]
     },
     "execution_count": 66,
     "metadata": {},
     "output_type": "execute_result"
    }
   ],
   "source": [
    "37389*.8"
   ]
  },
  {
   "cell_type": "code",
   "execution_count": 67,
   "metadata": {},
   "outputs": [
    {
     "name": "stdout",
     "output_type": "stream",
     "text": [
      "(30000,) (30000, 1) (7389,) (7389, 1)\n"
     ]
    }
   ],
   "source": [
    "train_x = df.iloc[:30000,0:1].values[:,0]\n",
    "train_y = df.iloc[:30000,1].values.reshape((30000, 1))\n",
    "test_x = df.iloc[30000:,0:1].values[:,0]\n",
    "test_y = df.iloc[30000:,1].values.reshape((7389, 1))\n",
    "\n",
    "print(train_x.shape, train_y.shape, test_x.shape, test_y.shape)"
   ]
  },
  {
   "cell_type": "code",
   "execution_count": 68,
   "metadata": {
    "collapsed": true
   },
   "outputs": [],
   "source": [
    "SYMBOLS = ['(', ')', ' ', 'x', 'y', '1', '2', '0', '-', 'λ', '+', '-', '*', '/']\n",
    "N_SYMBOLS = len(SYMBOLS)\n",
    "TOKENS = dict((c, i) for i, c in enumerate(SYMBOLS))\n",
    "MAX_LEN = max(list(map(len, (list(train_x)+list(test_x)))))\n",
    "\n",
    "def tokenize_string(s):\n",
    "    ret = np.zeros((MAX_LEN, N_SYMBOLS), dtype=bool)\n",
    "    for i, char in enumerate(s):\n",
    "        ret[i, TOKENS[char]] = 1\n",
    "    return ret\n",
    "\n",
    "def tokenize(a):\n",
    "#     ret = np.zeros(len(a), MAX_LEN, N_SYMBOLS)\n",
    "#     sentences = \n",
    "#     for i, sentence in enumerate(s):\n",
    "#         for t, char in enumerate(sentence):\n",
    "    return np.array(list(map(lambda s: tokenize_string(s), list(a))))"
   ]
  },
  {
   "cell_type": "code",
   "execution_count": 69,
   "metadata": {},
   "outputs": [
    {
     "name": "stdout",
     "output_type": "stream",
     "text": [
      "(30000, 35, 14) (30000, 1) (7389, 35, 14) (7389, 1)\n"
     ]
    }
   ],
   "source": [
    "train_x = tokenize(train_x)\n",
    "test_x = tokenize(test_x)\n",
    "\n",
    "print(train_x.shape, train_y.shape, test_x.shape, test_y.shape)"
   ]
  },
  {
   "cell_type": "code",
   "execution_count": 70,
   "metadata": {},
   "outputs": [
    {
     "name": "stdout",
     "output_type": "stream",
     "text": [
      "Train on 21000 samples, validate on 9000 samples\n",
      "Epoch 1/100\n",
      "21000/21000 [==============================] - 57s - loss: 3.1696 - acc: 0.2190 - val_loss: 2.7718 - val_acc: 0.2373\n",
      "Epoch 2/100\n",
      "21000/21000 [==============================] - 51s - loss: 2.8009 - acc: 0.2326 - val_loss: 2.7936 - val_acc: 0.2402\n",
      "Epoch 3/100\n",
      "21000/21000 [==============================] - 51s - loss: 2.6909 - acc: 0.2367 - val_loss: 2.5652 - val_acc: 0.2427\n",
      "Epoch 4/100\n",
      "21000/21000 [==============================] - 51s - loss: 2.5963 - acc: 0.2389 - val_loss: 2.5923 - val_acc: 0.2271\n",
      "Epoch 5/100\n",
      "21000/21000 [==============================] - 51s - loss: 2.5118 - acc: 0.2417 - val_loss: 2.4105 - val_acc: 0.2486\n",
      "Epoch 6/100\n",
      "21000/21000 [==============================] - 51s - loss: 2.4296 - acc: 0.2486 - val_loss: 2.2909 - val_acc: 0.2613\n",
      "Epoch 7/100\n",
      "21000/21000 [==============================] - 51s - loss: 2.3289 - acc: 0.2565 - val_loss: 2.3633 - val_acc: 0.2548\n",
      "Epoch 8/100\n",
      "21000/21000 [==============================] - 51s - loss: 2.2317 - acc: 0.2601 - val_loss: 2.1692 - val_acc: 0.2634\n",
      "Epoch 9/100\n",
      "21000/21000 [==============================] - 51s - loss: 2.1305 - acc: 0.2630 - val_loss: 2.1826 - val_acc: 0.2639\n",
      "Epoch 10/100\n",
      "21000/21000 [==============================] - 51s - loss: 1.9708 - acc: 0.2719 - val_loss: 1.9171 - val_acc: 0.2862\n",
      "Epoch 11/100\n",
      "21000/21000 [==============================] - 50s - loss: 1.9030 - acc: 0.2759 - val_loss: 1.8259 - val_acc: 0.2904\n",
      "Epoch 12/100\n",
      "21000/21000 [==============================] - 50s - loss: 1.7382 - acc: 0.2855 - val_loss: 1.7315 - val_acc: 0.2822\n",
      "Epoch 13/100\n",
      "21000/21000 [==============================] - 49s - loss: 1.6294 - acc: 0.2959 - val_loss: 1.8570 - val_acc: 0.2850\n",
      "Epoch 14/100\n",
      "21000/21000 [==============================] - 49s - loss: 1.5914 - acc: 0.3008 - val_loss: 1.3746 - val_acc: 0.3226\n",
      "Epoch 15/100\n",
      "21000/21000 [==============================] - 49s - loss: 1.3368 - acc: 0.3163 - val_loss: 1.2884 - val_acc: 0.3300\n",
      "Epoch 16/100\n",
      "21000/21000 [==============================] - 49s - loss: 1.0875 - acc: 0.3456 - val_loss: 0.9664 - val_acc: 0.3590\n",
      "Epoch 17/100\n",
      "21000/21000 [==============================] - 49s - loss: 0.9895 - acc: 0.3683 - val_loss: 0.8854 - val_acc: 0.3913\n",
      "Epoch 18/100\n",
      "21000/21000 [==============================] - 49s - loss: 0.8403 - acc: 0.3983 - val_loss: 0.7586 - val_acc: 0.4022\n",
      "Epoch 19/100\n",
      "21000/21000 [==============================] - 49s - loss: 0.6563 - acc: 0.4482 - val_loss: 0.6444 - val_acc: 0.4520\n",
      "Epoch 20/100\n",
      "21000/21000 [==============================] - 49s - loss: 0.5790 - acc: 0.4731 - val_loss: 0.5980 - val_acc: 0.4859\n",
      "Epoch 21/100\n",
      "21000/21000 [==============================] - 49s - loss: 0.5239 - acc: 0.5059 - val_loss: 0.4383 - val_acc: 0.5578\n",
      "Epoch 22/100\n",
      "21000/21000 [==============================] - 49s - loss: 0.4472 - acc: 0.5423 - val_loss: 0.4687 - val_acc: 0.5223\n",
      "Epoch 23/100\n",
      "21000/21000 [==============================] - 49s - loss: 0.4503 - acc: 0.5302 - val_loss: 0.4857 - val_acc: 0.5487\n",
      "Epoch 24/100\n",
      "21000/21000 [==============================] - 49s - loss: 0.3948 - acc: 0.5678 - val_loss: 0.3717 - val_acc: 0.5853\n",
      "Epoch 25/100\n",
      "21000/21000 [==============================] - 49s - loss: 0.3725 - acc: 0.5800 - val_loss: 0.3244 - val_acc: 0.6240\n",
      "Epoch 26/100\n",
      "21000/21000 [==============================] - 49s - loss: 0.3058 - acc: 0.6200 - val_loss: 0.3390 - val_acc: 0.6102\n",
      "Epoch 27/100\n",
      "21000/21000 [==============================] - 49s - loss: 0.3386 - acc: 0.5928 - val_loss: 0.3166 - val_acc: 0.6301\n",
      "Epoch 28/100\n",
      "21000/21000 [==============================] - 49s - loss: 0.2817 - acc: 0.6313 - val_loss: 0.2923 - val_acc: 0.6357\n",
      "Epoch 29/100\n",
      "21000/21000 [==============================] - 49s - loss: 0.2533 - acc: 0.6477 - val_loss: 0.2385 - val_acc: 0.6686\n",
      "Epoch 30/100\n",
      "21000/21000 [==============================] - 49s - loss: 0.2210 - acc: 0.6714 - val_loss: 0.2428 - val_acc: 0.6729\n",
      "Epoch 31/100\n",
      "21000/21000 [==============================] - 49s - loss: 0.2205 - acc: 0.6671 - val_loss: 0.2228 - val_acc: 0.6627\n",
      "Epoch 32/100\n",
      "21000/21000 [==============================] - 49s - loss: 0.2084 - acc: 0.6751 - val_loss: 0.2059 - val_acc: 0.6892\n",
      "Epoch 33/100\n",
      "21000/21000 [==============================] - 49s - loss: 0.1909 - acc: 0.6850 - val_loss: 0.2711 - val_acc: 0.6337\n",
      "Epoch 34/100\n",
      "21000/21000 [==============================] - 49s - loss: 0.2051 - acc: 0.6888 - val_loss: 0.1908 - val_acc: 0.7118\n",
      "Epoch 35/100\n",
      "21000/21000 [==============================] - 49s - loss: 0.1917 - acc: 0.6838 - val_loss: 0.2154 - val_acc: 0.6814\n",
      "Epoch 36/100\n",
      "21000/21000 [==============================] - 49s - loss: 0.1568 - acc: 0.7097 - val_loss: 0.1585 - val_acc: 0.7232\n",
      "Epoch 37/100\n",
      "21000/21000 [==============================] - 49s - loss: 0.2304 - acc: 0.6700 - val_loss: 0.2018 - val_acc: 0.6969\n",
      "Epoch 38/100\n",
      "21000/21000 [==============================] - 49s - loss: 0.1505 - acc: 0.7269 - val_loss: 0.1568 - val_acc: 0.7382\n",
      "Epoch 39/100\n",
      "21000/21000 [==============================] - 48s - loss: 0.1272 - acc: 0.7412 - val_loss: 0.1393 - val_acc: 0.7392\n",
      "Epoch 40/100\n",
      "21000/21000 [==============================] - 49s - loss: 0.1134 - acc: 0.7532 - val_loss: 0.1336 - val_acc: 0.7503\n",
      "Epoch 41/100\n",
      "21000/21000 [==============================] - 49s - loss: 0.1391 - acc: 0.7297 - val_loss: 0.1355 - val_acc: 0.7390\n",
      "Epoch 42/100\n",
      "21000/21000 [==============================] - 49s - loss: 0.1051 - acc: 0.7574 - val_loss: 0.1012 - val_acc: 0.7776\n",
      "Epoch 43/100\n",
      "21000/21000 [==============================] - 49s - loss: 0.0986 - acc: 0.7642 - val_loss: 0.1016 - val_acc: 0.7752\n",
      "Epoch 44/100\n",
      "21000/21000 [==============================] - 49s - loss: 0.1089 - acc: 0.7585 - val_loss: 0.1117 - val_acc: 0.7637\n",
      "Epoch 45/100\n",
      "21000/21000 [==============================] - 49s - loss: 0.0903 - acc: 0.7713 - val_loss: 0.0904 - val_acc: 0.7836\n",
      "Epoch 46/100\n",
      "21000/21000 [==============================] - 49s - loss: 0.0802 - acc: 0.7820 - val_loss: 0.0974 - val_acc: 0.7719\n",
      "Epoch 47/100\n",
      "21000/21000 [==============================] - 49s - loss: 0.0788 - acc: 0.7843 - val_loss: 0.0846 - val_acc: 0.7883\n",
      "Epoch 48/100\n",
      "21000/21000 [==============================] - 49s - loss: 0.0756 - acc: 0.7871 - val_loss: 0.0962 - val_acc: 0.7776\n",
      "Epoch 49/100\n",
      "21000/21000 [==============================] - 49s - loss: 0.0743 - acc: 0.7855 - val_loss: 0.0714 - val_acc: 0.7953\n",
      "Epoch 50/100\n",
      "21000/21000 [==============================] - 49s - loss: 0.0665 - acc: 0.7964 - val_loss: 0.0767 - val_acc: 0.7949\n",
      "Epoch 51/100\n",
      "21000/21000 [==============================] - 49s - loss: 0.0655 - acc: 0.7997 - val_loss: 0.0770 - val_acc: 0.7921\n",
      "Epoch 52/100\n",
      "21000/21000 [==============================] - 49s - loss: 0.0714 - acc: 0.7911 - val_loss: 0.0729 - val_acc: 0.7937\n",
      "Epoch 53/100\n",
      "21000/21000 [==============================] - 48s - loss: 0.0603 - acc: 0.8039 - val_loss: 0.0656 - val_acc: 0.8054\n",
      "Epoch 54/100\n",
      "21000/21000 [==============================] - 48s - loss: 0.0552 - acc: 0.8075 - val_loss: 0.0698 - val_acc: 0.8023\n",
      "Epoch 55/100\n",
      "21000/21000 [==============================] - 49s - loss: 0.0675 - acc: 0.7943 - val_loss: 0.0663 - val_acc: 0.8054\n",
      "Epoch 56/100\n",
      "21000/21000 [==============================] - 49s - loss: 0.1239 - acc: 0.7689 - val_loss: 0.1389 - val_acc: 0.7668\n",
      "Epoch 57/100\n",
      "21000/21000 [==============================] - 49s - loss: 0.1404 - acc: 0.7627 - val_loss: 0.1690 - val_acc: 0.7379\n",
      "Epoch 58/100\n",
      "21000/21000 [==============================] - 49s - loss: 0.1167 - acc: 0.7632 - val_loss: 0.0856 - val_acc: 0.7847\n"
     ]
    },
    {
     "data": {
      "text/plain": [
       "<keras.callbacks.History at 0x7fe80e909f98>"
      ]
     },
     "execution_count": 70,
     "metadata": {},
     "output_type": "execute_result"
    }
   ],
   "source": [
    "model = Sequential()\n",
    "model.add(LSTM(256, input_shape=(MAX_LEN,N_SYMBOLS)))\n",
    "model.add(Dropout(0.2))\n",
    "model.add(Dense(128))\n",
    "model.add(Activation('relu'))\n",
    "model.add(Dense(64))\n",
    "model.add(Activation('relu'))\n",
    "model.add(Dense(16))\n",
    "model.add(Activation('relu'))\n",
    "model.add(Dense(1))\n",
    "\n",
    "model.compile(loss='mean_squared_error', optimizer='Adam', metrics=['accuracy'])\n",
    "model.fit(train_x,\n",
    "          train_y,\n",
    "          batch_size=500,\n",
    "          epochs=100,\n",
    "          validation_split=0.3,\n",
    "          callbacks=[EarlyStopping(patience=4)])"
   ]
  },
  {
   "cell_type": "code",
   "execution_count": 71,
   "metadata": {},
   "outputs": [
    {
     "name": "stdout",
     "output_type": "stream",
     "text": [
      "7389/7389 [==============================] - 5s     \n"
     ]
    },
    {
     "data": {
      "text/plain": [
       "[0.094075113908010988, 0.77628907119651858]"
      ]
     },
     "execution_count": 71,
     "metadata": {},
     "output_type": "execute_result"
    }
   ],
   "source": [
    "model.evaluate(x=test_x, y=test_y, batch_size=500)"
   ]
  },
  {
   "cell_type": "code",
   "execution_count": 117,
   "metadata": {},
   "outputs": [
    {
     "data": {
      "text/plain": [
       "array([[ 2.18065166],\n",
       "       [ 1.73664606],\n",
       "       [ 0.54599768],\n",
       "       [ 7.64976978],\n",
       "       [ 3.83102441],\n",
       "       [ 0.77701008],\n",
       "       [ 2.84936213],\n",
       "       [ 3.4980514 ]], dtype=float32)"
      ]
     },
     "execution_count": 117,
     "metadata": {},
     "output_type": "execute_result"
    }
   ],
   "source": [
    "tests = tokenize(np.array(['(+ 1 1)',\n",
    "                           '((λ) (x) (+ x 1)) 1)',\n",
    "                           '(/ 1 2)',\n",
    "                           '(* 2 (* 2 2))',\n",
    "                           '(* 2 2)',\n",
    "                           '(- 1 2)',\n",
    "                           '(* 1 (+ 2 1))',\n",
    "                           '(* 2 (+ 1 1))']))\n",
    "\n",
    "model.predict(tests)"
   ]
  },
  {
   "cell_type": "code",
   "execution_count": null,
   "metadata": {
    "collapsed": true
   },
   "outputs": [],
   "source": []
  },
  {
   "cell_type": "code",
   "execution_count": null,
   "metadata": {
    "collapsed": true
   },
   "outputs": [],
   "source": []
  }
 ],
 "metadata": {
  "kernelspec": {
   "display_name": "Python 3",
   "language": "python",
   "name": "python3"
  },
  "language_info": {
   "codemirror_mode": {
    "name": "ipython",
    "version": 3
   },
   "file_extension": ".py",
   "mimetype": "text/x-python",
   "name": "python",
   "nbconvert_exporter": "python",
   "pygments_lexer": "ipython3",
   "version": "3.6.1"
  }
 },
 "nbformat": 4,
 "nbformat_minor": 2
}
