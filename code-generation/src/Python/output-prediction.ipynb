{
 "cells": [
  {
   "cell_type": "code",
   "execution_count": 1,
   "metadata": {},
   "outputs": [
    {
     "name": "stderr",
     "output_type": "stream",
     "text": [
      "Using TensorFlow backend.\n"
     ]
    }
   ],
   "source": [
    "import pandas as pd\n",
    "import numpy as np\n",
    "from keras.preprocessing.sequence import pad_sequences\n",
    "from keras.utils import np_utils\n",
    "from keras.models import Sequential\n",
    "from keras.layers.core import Dense, Activation, Lambda\n",
    "from keras.layers import LSTM, Dropout\n",
    "from keras.optimizers import Adam\n",
    "from keras.callbacks import EarlyStopping\n",
    "import tensorflow as tf"
   ]
  },
  {
   "cell_type": "code",
   "execution_count": 22,
   "metadata": {},
   "outputs": [],
   "source": [
    "df = pd.read_csv('../../data/scheme-progs.csv')\n",
    "df = df.sample(frac=1).reset_index(drop=True)\n",
    "df = df[df.output != 'E']\n",
    "df.output = pd.to_numeric(df.output)"
   ]
  },
  {
   "cell_type": "code",
   "execution_count": 28,
   "metadata": {},
   "outputs": [
    {
     "data": {
      "text/plain": [
       "29911.2"
      ]
     },
     "execution_count": 28,
     "metadata": {},
     "output_type": "execute_result"
    }
   ],
   "source": [
    "37389*.8"
   ]
  },
  {
   "cell_type": "code",
   "execution_count": 31,
   "metadata": {},
   "outputs": [
    {
     "name": "stdout",
     "output_type": "stream",
     "text": [
      "(30000,) (30000, 1) (7389,) (7389, 1)\n"
     ]
    }
   ],
   "source": [
    "train_x = df.iloc[:30000,0:1].values[:,0]\n",
    "train_y = df.iloc[:30000,1].values.reshape((30000, 1))\n",
    "test_x = df.iloc[30000:,0:1].values[:,0]\n",
    "test_y = df.iloc[30000:,1].values.reshape((7389, 1))\n",
    "\n",
    "print(train_x.shape, train_y.shape, test_x.shape, test_y.shape)"
   ]
  },
  {
   "cell_type": "code",
   "execution_count": 32,
   "metadata": {
    "collapsed": true
   },
   "outputs": [],
   "source": [
    "SYMBOLS = ['(', ')', ' ', 'x', 'y', '1', '2', '0', '-', 'λ', '+', '-', '*', '/']\n",
    "N_SYMBOLS = len(SYMBOLS)\n",
    "TOKENS = dict((c, i) for i, c in enumerate(SYMBOLS))\n",
    "MAX_LEN = max(list(map(len, (list(train_x)+list(test_x)))))\n",
    "\n",
    "def tokenize_string(s):\n",
    "    ret = np.zeros((MAX_LEN, N_SYMBOLS), dtype=bool)\n",
    "    for i, char in enumerate(s):\n",
    "        ret[i, TOKENS[char]] = 1\n",
    "    return ret\n",
    "\n",
    "def tokenize(a):\n",
    "#     ret = np.zeros(len(a), MAX_LEN, N_SYMBOLS)\n",
    "#     sentences = \n",
    "#     for i, sentence in enumerate(s):\n",
    "#         for t, char in enumerate(sentence):\n",
    "    return np.array(list(map(lambda s: tokenize_string(s), list(a))))"
   ]
  },
  {
   "cell_type": "code",
   "execution_count": 33,
   "metadata": {},
   "outputs": [
    {
     "name": "stdout",
     "output_type": "stream",
     "text": [
      "(30000, 35, 14) (30000, 1) (7389, 35, 14) (7389, 1)\n"
     ]
    }
   ],
   "source": [
    "train_x = tokenize(train_x)\n",
    "test_x = tokenize(test_x)\n",
    "\n",
    "print(train_x.shape, train_y.shape, test_x.shape, test_y.shape)"
   ]
  },
  {
   "cell_type": "code",
   "execution_count": 34,
   "metadata": {},
   "outputs": [
    {
     "name": "stdout",
     "output_type": "stream",
     "text": [
      "Train on 21000 samples, validate on 9000 samples\n",
      "Epoch 1/10\n",
      "21000/21000 [==============================] - 23s - loss: 3.2520 - acc: 0.2191 - val_loss: 2.9914 - val_acc: 0.2230\n",
      "Epoch 2/10\n",
      "21000/21000 [==============================] - 21s - loss: 2.7939 - acc: 0.2346 - val_loss: 2.6749 - val_acc: 0.2424\n",
      "Epoch 3/10\n",
      "21000/21000 [==============================] - 21s - loss: 2.6706 - acc: 0.2379 - val_loss: 2.6031 - val_acc: 0.2421\n",
      "Epoch 4/10\n",
      "21000/21000 [==============================] - 22s - loss: 2.5718 - acc: 0.2412 - val_loss: 2.5679 - val_acc: 0.2459\n",
      "Epoch 5/10\n",
      "21000/21000 [==============================] - 21s - loss: 2.5509 - acc: 0.2438 - val_loss: 2.5134 - val_acc: 0.2500\n",
      "Epoch 6/10\n",
      "21000/21000 [==============================] - 21s - loss: 2.5044 - acc: 0.2407 - val_loss: 2.4738 - val_acc: 0.2493\n",
      "Epoch 7/10\n",
      "21000/21000 [==============================] - 21s - loss: 2.4352 - acc: 0.2471 - val_loss: 2.3694 - val_acc: 0.2589\n",
      "Epoch 8/10\n",
      "21000/21000 [==============================] - 21s - loss: 2.3591 - acc: 0.2526 - val_loss: 2.2642 - val_acc: 0.2569\n",
      "Epoch 9/10\n",
      "21000/21000 [==============================] - 21s - loss: 2.2586 - acc: 0.2552 - val_loss: 2.3321 - val_acc: 0.2464\n",
      "Epoch 10/10\n",
      "21000/21000 [==============================] - 22s - loss: 2.1801 - acc: 0.2615 - val_loss: 2.1140 - val_acc: 0.2734\n"
     ]
    },
    {
     "data": {
      "text/plain": [
       "<keras.callbacks.History at 0x7fe858360b70>"
      ]
     },
     "execution_count": 34,
     "metadata": {},
     "output_type": "execute_result"
    }
   ],
   "source": [
    "model = Sequential()\n",
    "model.add(LSTM(128, input_shape=(MAX_LEN,N_SYMBOLS)))\n",
    "model.add(Dropout(0.2))\n",
    "model.add(Dense(64))\n",
    "model.add(Activation('relu'))\n",
    "model.add(Dense(1))\n",
    "\n",
    "model.compile(loss='mean_squared_error', optimizer='Adam', metrics=['accuracy'])\n",
    "model.fit(train_x,\n",
    "          train_y,\n",
    "          batch_size=500,\n",
    "          epochs=10,\n",
    "          validation_split=0.3,\n",
    "          callbacks=[EarlyStopping(patience=2)])"
   ]
  },
  {
   "cell_type": "code",
   "execution_count": 35,
   "metadata": {},
   "outputs": [
    {
     "name": "stdout",
     "output_type": "stream",
     "text": [
      "7389/7389 [==============================] - 2s     \n"
     ]
    },
    {
     "data": {
      "text/plain": [
       "[2.1470462619927599, 0.27324401323770153]"
      ]
     },
     "execution_count": 35,
     "metadata": {},
     "output_type": "execute_result"
    }
   ],
   "source": [
    "model.evaluate(x=test_x, y=test_y, batch_size=500)"
   ]
  },
  {
   "cell_type": "code",
   "execution_count": 62,
   "metadata": {},
   "outputs": [],
   "source": [
    "tests = tokenize(np.array(['((λ (x) (x 1)) (λ (y) (* 2 y)))', '((λ (x) (+ x 1)) 2)', '(+ 1 1)', '(/ 1 2)', '(* 2 2)', '(- 0 1)', '(+ 1 (+ 1 1))']))"
   ]
  },
  {
   "cell_type": "code",
   "execution_count": 63,
   "metadata": {},
   "outputs": [
    {
     "data": {
      "text/plain": [
       "array([[ 1.60488272],\n",
       "       [ 2.6646111 ],\n",
       "       [ 2.53276873],\n",
       "       [ 0.9617548 ],\n",
       "       [ 3.51821947],\n",
       "       [-0.34459147],\n",
       "       [ 3.12763119]], dtype=float32)"
      ]
     },
     "execution_count": 63,
     "metadata": {},
     "output_type": "execute_result"
    }
   ],
   "source": [
    "model.predict(tests)"
   ]
  },
  {
   "cell_type": "code",
   "execution_count": null,
   "metadata": {
    "collapsed": true
   },
   "outputs": [],
   "source": []
  }
 ],
 "metadata": {
  "kernelspec": {
   "display_name": "Python 3",
   "language": "python",
   "name": "python3"
  },
  "language_info": {
   "codemirror_mode": {
    "name": "ipython",
    "version": 3
   },
   "file_extension": ".py",
   "mimetype": "text/x-python",
   "name": "python",
   "nbconvert_exporter": "python",
   "pygments_lexer": "ipython3",
   "version": "3.6.1"
  }
 },
 "nbformat": 4,
 "nbformat_minor": 2
}
