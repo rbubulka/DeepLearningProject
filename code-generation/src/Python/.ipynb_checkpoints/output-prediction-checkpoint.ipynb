{
 "cells": [
  {
   "cell_type": "code",
   "execution_count": 135,
   "metadata": {},
   "outputs": [],
   "source": [
    "import pandas as pd\n",
    "import numpy as np\n",
    "from keras.preprocessing.sequence import pad_sequences\n",
    "from keras.utils import np_utils\n",
    "from keras.models import Sequential\n",
    "from keras.layers.core import Dense, Activation, Lambda\n",
    "from keras.layers import LSTM, Dropout\n",
    "from keras.optimizers import Adam\n",
    "from keras.callbacks import EarlyStopping\n",
    "import tensorflow as tf"
   ]
  },
  {
   "cell_type": "code",
   "execution_count": 103,
   "metadata": {},
   "outputs": [],
   "source": [
    "df = pd.read_csv('../../data/scheme-progs.csv')\n",
    "df = df.sample(frac=1).reset_index(drop=True)\n",
    "df['noerr'] = 1 - df['error']"
   ]
  },
  {
   "cell_type": "code",
   "execution_count": 137,
   "metadata": {},
   "outputs": [
    {
     "name": "stdout",
     "output_type": "stream",
     "text": [
      "(38000,) (38000, 2) (9890,) (9890, 2)\n"
     ]
    }
   ],
   "source": [
    "train_x = df.iloc[:38000,0:1].values[:,0]\n",
    "train_y = df.iloc[:38000,2:].values\n",
    "test_x = df.iloc[38000:,0:1].values[:,0]\n",
    "test_y = df.iloc[38000:,2:].values\n",
    "\n",
    "print(train_x.shape, train_y.shape, test_x.shape, test_y.shape)"
   ]
  },
  {
   "cell_type": "code",
   "execution_count": 138,
   "metadata": {
    "collapsed": true
   },
   "outputs": [],
   "source": [
    "SYMBOLS = ['(', ')', ' ', 'x', 'y', '1', '2', '0', '-', 'λ', '+', '-', '*', '/']\n",
    "N_SYMBOLS = len(SYMBOLS)\n",
    "TOKENS = dict((c, i) for i, c in enumerate(SYMBOLS))\n",
    "MAX_LEN = max(list(map(len, (list(train_x)+list(test_x)))))\n",
    "\n",
    "def tokenize_string(s):\n",
    "    ret = np.zeros((MAX_LEN, N_SYMBOLS), dtype=bool)\n",
    "    for i, char in enumerate(s):\n",
    "        ret[i, TOKENS[char]] = 1\n",
    "    return ret\n",
    "\n",
    "def tokenize(a):\n",
    "#     ret = np.zeros(len(a), MAX_LEN, N_SYMBOLS)\n",
    "#     sentences = \n",
    "#     for i, sentence in enumerate(s):\n",
    "#         for t, char in enumerate(sentence):\n",
    "    return np.array(list(map(lambda s: tokenize_string(s), list(a))))"
   ]
  },
  {
   "cell_type": "code",
   "execution_count": 139,
   "metadata": {},
   "outputs": [
    {
     "name": "stdout",
     "output_type": "stream",
     "text": [
      "(38000, 35, 14) (38000, 2) (9890, 35, 14) (9890, 2)\n"
     ]
    }
   ],
   "source": [
    "train_x = tokenize(train_x)\n",
    "test_x = tokenize(test_x)\n",
    "\n",
    "print(train_x.shape, train_y.shape, test_x.shape, test_y.shape)"
   ]
  },
  {
   "cell_type": "code",
   "execution_count": 141,
   "metadata": {},
   "outputs": [
    {
     "name": "stdout",
     "output_type": "stream",
     "text": [
      "Train on 26600 samples, validate on 11400 samples\n",
      "Epoch 1/10\n",
      "26600/26600 [==============================] - 28s - loss: 0.5272 - acc: 0.7815 - val_loss: 0.4090 - val_acc: 0.7818\n",
      "Epoch 2/10\n",
      "26600/26600 [==============================] - 27s - loss: 0.3245 - acc: 0.8545 - val_loss: 0.2756 - val_acc: 0.8647\n",
      "Epoch 3/10\n",
      "26600/26600 [==============================] - 27s - loss: 0.2525 - acc: 0.8757 - val_loss: 0.2060 - val_acc: 0.9011\n",
      "Epoch 4/10\n",
      "26600/26600 [==============================] - 27s - loss: 0.2535 - acc: 0.8685 - val_loss: 0.2176 - val_acc: 0.8801\n",
      "Epoch 5/10\n",
      "26600/26600 [==============================] - 27s - loss: 0.2056 - acc: 0.8991 - val_loss: 0.1803 - val_acc: 0.9267\n",
      "Epoch 6/10\n",
      "26600/26600 [==============================] - 27s - loss: 0.1821 - acc: 0.9182 - val_loss: 0.1499 - val_acc: 0.9446\n",
      "Epoch 7/10\n",
      "26600/26600 [==============================] - 27s - loss: 0.1428 - acc: 0.9444 - val_loss: 0.1292 - val_acc: 0.9508\n",
      "Epoch 8/10\n",
      "26600/26600 [==============================] - 27s - loss: 0.1259 - acc: 0.9506 - val_loss: 0.1841 - val_acc: 0.9123\n",
      "Epoch 9/10\n",
      "26600/26600 [==============================] - 27s - loss: 0.1122 - acc: 0.9576 - val_loss: 0.0917 - val_acc: 0.9666\n",
      "Epoch 10/10\n",
      "26600/26600 [==============================] - 27s - loss: 0.0887 - acc: 0.9658 - val_loss: 0.0825 - val_acc: 0.9700\n"
     ]
    },
    {
     "data": {
      "text/plain": [
       "<keras.callbacks.History at 0x7fc92d7b2be0>"
      ]
     },
     "execution_count": 141,
     "metadata": {},
     "output_type": "execute_result"
    }
   ],
   "source": [
    "model = Sequential()\n",
    "model.add(LSTM(128, input_shape=(MAX_LEN,N_SYMBOLS)))\n",
    "model.add(Dropout(0.2))\n",
    "model.add(Dense(64))\n",
    "model.add(Activation('relu'))\n",
    "model.add(Dense(2))\n",
    "model.add(Activation('softmax'))\n",
    "\n",
    "model.compile(loss='categorical_crossentropy', optimizer='Adam', metrics=['accuracy'])\n",
    "model.fit(train_x,\n",
    "          train_y,\n",
    "          batch_size=500,\n",
    "          epochs=10,\n",
    "          validation_split=0.3,\n",
    "          callbacks=[EarlyStopping(patience=2)])"
   ]
  },
  {
   "cell_type": "code",
   "execution_count": 142,
   "metadata": {},
   "outputs": [
    {
     "name": "stdout",
     "output_type": "stream",
     "text": [
      "9890/9890 [==============================] - 2s     \n"
     ]
    },
    {
     "data": {
      "text/plain": [
       "[0.083157962235208716, 0.96855409875798393]"
      ]
     },
     "execution_count": 142,
     "metadata": {},
     "output_type": "execute_result"
    }
   ],
   "source": [
    "model.evaluate(x=test_x, y=test_y, batch_size=500)"
   ]
  },
  {
   "cell_type": "code",
   "execution_count": 179,
   "metadata": {},
   "outputs": [],
   "source": [
    "tests = tokenize(np.array(['(/ 1 1)', '(/ 1 ()())))))((((0)']))"
   ]
  },
  {
   "cell_type": "code",
   "execution_count": 180,
   "metadata": {},
   "outputs": [
    {
     "data": {
      "text/plain": [
       "array([[ 0.01850473,  0.9814952 ],\n",
       "       [ 0.17510785,  0.82489216]], dtype=float32)"
      ]
     },
     "execution_count": 180,
     "metadata": {},
     "output_type": "execute_result"
    }
   ],
   "source": [
    "model.predict(tests)"
   ]
  },
  {
   "cell_type": "code",
   "execution_count": null,
   "metadata": {
    "collapsed": true
   },
   "outputs": [],
   "source": []
  }
 ],
 "metadata": {
  "kernelspec": {
   "display_name": "Python 3",
   "language": "python",
   "name": "python3"
  },
  "language_info": {
   "codemirror_mode": {
    "name": "ipython",
    "version": 3
   },
   "file_extension": ".py",
   "mimetype": "text/x-python",
   "name": "python",
   "nbconvert_exporter": "python",
   "pygments_lexer": "ipython3",
   "version": "3.6.1"
  }
 },
 "nbformat": 4,
 "nbformat_minor": 2
}
